{
 "cells": [
  {
   "cell_type": "markdown",
   "metadata": {
    "toc": "true"
   },
   "source": [
    "# Table of Contents\n",
    " <p><div class=\"lev1\"><a href=\"#Imports\"><span class=\"toc-item-num\">1&nbsp;&nbsp;</span>Imports</a></div><div class=\"lev1\"><a href=\"#Analysis\"><span class=\"toc-item-num\">2&nbsp;&nbsp;</span>Analysis</a></div><div class=\"lev2\"><a href=\"#Linear-regression\"><span class=\"toc-item-num\">2.1&nbsp;&nbsp;</span>Linear regression</a></div><div class=\"lev3\"><a href=\"#Model-comparison:\"><span class=\"toc-item-num\">2.1.1&nbsp;&nbsp;</span>Model comparison:</a></div><div class=\"lev2\"><a href=\"#Ridge\"><span class=\"toc-item-num\">2.2&nbsp;&nbsp;</span>Ridge</a></div><div class=\"lev2\"><a href=\"#Elastic-net\"><span class=\"toc-item-num\">2.3&nbsp;&nbsp;</span>Elastic net</a></div><div class=\"lev3\"><a href=\"#Why-intercept==True\"><span class=\"toc-item-num\">2.3.1&nbsp;&nbsp;</span>Why <code>intercept==True</code></a></div><div class=\"lev2\"><a href=\"#Elastic-net-CV\"><span class=\"toc-item-num\">2.4&nbsp;&nbsp;</span>Elastic net CV</a></div><div class=\"lev2\"><a href=\"#Prediction\"><span class=\"toc-item-num\">2.5&nbsp;&nbsp;</span>Prediction</a></div><div class=\"lev3\"><a href=\"#For-one-individual\"><span class=\"toc-item-num\">2.5.1&nbsp;&nbsp;</span>For one individual</a></div><div class=\"lev1\"><a href=\"#Discriminant-Analysis\"><span class=\"toc-item-num\">3&nbsp;&nbsp;</span>Discriminant Analysis</a></div><div class=\"lev1\"><a href=\"#PCA\"><span class=\"toc-item-num\">4&nbsp;&nbsp;</span>PCA</a></div><div class=\"lev1\"><a href=\"#Hierarchical-clustering\"><span class=\"toc-item-num\">5&nbsp;&nbsp;</span>Hierarchical clustering</a></div><div class=\"lev2\"><a href=\"#Single-method-linkage\"><span class=\"toc-item-num\">5.1&nbsp;&nbsp;</span>Single method linkage</a></div><div class=\"lev2\"><a href=\"#Ward-method\"><span class=\"toc-item-num\">5.2&nbsp;&nbsp;</span>Ward method</a></div>"
   ]
  },
  {
   "cell_type": "markdown",
   "metadata": {},
   "source": [
    "# Imports"
   ]
  },
  {
   "cell_type": "code",
   "execution_count": 1,
   "metadata": {
    "collapsed": false,
    "run_control": {
     "marked": true
    }
   },
   "outputs": [],
   "source": [
    "import numpy as np\n",
    "import matplotlib.pyplot as plt\n",
    "import seaborn as sns\n",
    "import pandas as pd\n",
    "import scipy.stats as ss\n",
    "%matplotlib inline\n",
    "\n",
    "sns.set_style(\"ticks\")"
   ]
  },
  {
   "cell_type": "code",
   "execution_count": 2,
   "metadata": {
    "collapsed": true,
    "run_control": {
     "marked": true
    }
   },
   "outputs": [],
   "source": [
    "import statsmodels.formula.api as smf"
   ]
  },
  {
   "cell_type": "code",
   "execution_count": 3,
   "metadata": {
    "collapsed": true,
    "run_control": {
     "marked": true
    }
   },
   "outputs": [],
   "source": [
    "from sklearn import linear_model"
   ]
  },
  {
   "cell_type": "code",
   "execution_count": 4,
   "metadata": {
    "collapsed": true,
    "run_control": {
     "marked": true
    }
   },
   "outputs": [],
   "source": [
    "df2 = pd.read_table(\"data2.txt\")"
   ]
  },
  {
   "cell_type": "code",
   "execution_count": 5,
   "metadata": {
    "collapsed": false
   },
   "outputs": [
    {
     "data": {
      "text/html": [
       "<div>\n",
       "<table border=\"1\" class=\"dataframe\">\n",
       "  <thead>\n",
       "    <tr style=\"text-align: right;\">\n",
       "      <th></th>\n",
       "      <th>x</th>\n",
       "      <th>y</th>\n",
       "      <th>gr</th>\n",
       "      <th>out</th>\n",
       "      <th>ind</th>\n",
       "    </tr>\n",
       "  </thead>\n",
       "  <tbody>\n",
       "    <tr>\n",
       "      <th>1</th>\n",
       "      <td>1.343301</td>\n",
       "      <td>-2.359275</td>\n",
       "      <td>g1</td>\n",
       "      <td>0</td>\n",
       "      <td>True</td>\n",
       "    </tr>\n",
       "    <tr>\n",
       "      <th>2</th>\n",
       "      <td>4.590645</td>\n",
       "      <td>-0.287918</td>\n",
       "      <td>g1</td>\n",
       "      <td>0</td>\n",
       "      <td>True</td>\n",
       "    </tr>\n",
       "    <tr>\n",
       "      <th>3</th>\n",
       "      <td>0.763371</td>\n",
       "      <td>-1.182935</td>\n",
       "      <td>g1</td>\n",
       "      <td>0</td>\n",
       "      <td>True</td>\n",
       "    </tr>\n",
       "    <tr>\n",
       "      <th>4</th>\n",
       "      <td>1.326934</td>\n",
       "      <td>0.599838</td>\n",
       "      <td>g1</td>\n",
       "      <td>0</td>\n",
       "      <td>False</td>\n",
       "    </tr>\n",
       "    <tr>\n",
       "      <th>5</th>\n",
       "      <td>3.266690</td>\n",
       "      <td>3.259022</td>\n",
       "      <td>g1</td>\n",
       "      <td>0</td>\n",
       "      <td>False</td>\n",
       "    </tr>\n",
       "  </tbody>\n",
       "</table>\n",
       "</div>"
      ],
      "text/plain": [
       "          x         y  gr  out    ind\n",
       "1  1.343301 -2.359275  g1    0   True\n",
       "2  4.590645 -0.287918  g1    0   True\n",
       "3  0.763371 -1.182935  g1    0   True\n",
       "4  1.326934  0.599838  g1    0  False\n",
       "5  3.266690  3.259022  g1    0  False"
      ]
     },
     "execution_count": 5,
     "metadata": {},
     "output_type": "execute_result"
    }
   ],
   "source": [
    "df2.head()"
   ]
  },
  {
   "cell_type": "markdown",
   "metadata": {},
   "source": [
    "# Analysis"
   ]
  },
  {
   "cell_type": "markdown",
   "metadata": {},
   "source": [
    "## Linear regression\n",
    "\n",
    "Seaborn allows easy representation of the data as a function of a categorical one."
   ]
  },
  {
   "cell_type": "code",
   "execution_count": 6,
   "metadata": {
    "collapsed": false
   },
   "outputs": [
    {
     "name": "stderr",
     "output_type": "stream",
     "text": [
      "/Users/jcury/Library/Enthought/Canopy_64bit/User/lib/python2.7/site-packages/matplotlib/collections.py:590: FutureWarning: elementwise comparison failed; returning scalar instead, but in the future will perform elementwise comparison\n",
      "  if self._edgecolors == str('face'):\n"
     ]
    },
    {
     "data": {
      "text/plain": [
       "<seaborn.axisgrid.FacetGrid at 0x10e34d710>"
      ]
     },
     "execution_count": 6,
     "metadata": {},
     "output_type": "execute_result"
    },
    {
     "data": {
      "image/png": "[encoded data removed]",
      "text/plain": [
       "<matplotlib.figure.Figure at 0x10e34de10>"
      ]
     },
     "metadata": {},
     "output_type": "display_data"
    }
   ],
   "source": [
    "sns.lmplot(\"x\", \"y\", hue=\"gr\", data=df2, fit_reg=False, size=4)"
   ]
  },
  {
   "cell_type": "markdown",
   "metadata": {},
   "source": [
    "Statsmodel allows to compute the linear regression by giving a formula like in R."
   ]
  },
  {
   "cell_type": "code",
   "execution_count": 7,
   "metadata": {
    "collapsed": false
   },
   "outputs": [],
   "source": [
    "mod21 = smf.ols(\"out ~ x + y + ind\", data=df2)"
   ]
  },
  {
   "cell_type": "code",
   "execution_count": 8,
   "metadata": {
    "collapsed": true
   },
   "outputs": [],
   "source": [
    "res21 = mod21.fit()"
   ]
  },
  {
   "cell_type": "code",
   "execution_count": 9,
   "metadata": {
    "collapsed": false
   },
   "outputs": [
    {
     "data": {
      "text/plain": [
       "Intercept      0.155266\n",
       "ind[T.True]    0.011974\n",
       "x              0.147227\n",
       "y             -0.029118\n",
       "dtype: float64"
      ]
     },
     "execution_count": 9,
     "metadata": {},
     "output_type": "execute_result"
    }
   ],
   "source": [
    "res21.params"
   ]
  },
  {
   "cell_type": "markdown",
   "metadata": {},
   "source": [
    "`res21.summary2()` will give the corresponding output as the summary(mod) from R at least for the p-values, `res21.summary()` will return slightly different values, I don't know why."
   ]
  },
  {
   "cell_type": "code",
   "execution_count": 10,
   "metadata": {
    "collapsed": false
   },
   "outputs": [
    {
     "data": {
      "text/html": [
       "<table class=\"simpletable\">\n",
       "<tr>\n",
       "        <td>Model:</td>               <td>OLS</td>         <td>Adj. R-squared:</td>     <td>0.747</td>  \n",
       "</tr>\n",
       "<tr>\n",
       "  <td>Dependent Variable:</td>        <td>out</td>              <td>AIC:</td>          <td>40.9881</td> \n",
       "</tr>\n",
       "<tr>\n",
       "         <td>Date:</td>        <td>2016-06-02 22:00</td>        <td>BIC:</td>          <td>60.6191</td> \n",
       "</tr>\n",
       "<tr>\n",
       "   <td>No. Observations:</td>        <td>1000</td>         <td>Log-Likelihood:</td>    <td>-16.494</td> \n",
       "</tr>\n",
       "<tr>\n",
       "       <td>Df Model:</td>              <td>3</td>           <td>F-statistic:</td>       <td>984.7</td>  \n",
       "</tr>\n",
       "<tr>\n",
       "     <td>Df Residuals:</td>           <td>996</td>       <td>Prob (F-statistic):</td> <td>2.27e-297</td>\n",
       "</tr>\n",
       "<tr>\n",
       "      <td>R-squared:</td>            <td>0.748</td>            <td>Scale:</td>        <td>0.060757</td> \n",
       "</tr>\n",
       "</table>\n",
       "<table class=\"simpletable\">\n",
       "<tr>\n",
       "       <td></td>        <th>Coef.</th>  <th>Std.Err.</th>    <th>t</th>     <th>P>|t|</th> <th>[0.025</th>  <th>0.975]</th> \n",
       "</tr>\n",
       "<tr>\n",
       "  <th>Intercept</th>   <td>0.1553</td>   <td>0.0144</td>  <td>10.7481</td> <td>0.0000</td> <td>0.1269</td>  <td>0.1836</td> \n",
       "</tr>\n",
       "<tr>\n",
       "  <th>ind[T.True]</th> <td>0.0120</td>   <td>0.0156</td>  <td>0.7673</td>  <td>0.4431</td> <td>-0.0187</td> <td>0.0426</td> \n",
       "</tr>\n",
       "<tr>\n",
       "  <th>x</th>           <td>0.1472</td>   <td>0.0029</td>  <td>51.4289</td> <td>0.0000</td> <td>0.1416</td>  <td>0.1528</td> \n",
       "</tr>\n",
       "<tr>\n",
       "  <th>y</th>           <td>-0.0291</td>  <td>0.0051</td>  <td>-5.6567</td> <td>0.0000</td> <td>-0.0392</td> <td>-0.0190</td>\n",
       "</tr>\n",
       "</table>\n",
       "<table class=\"simpletable\">\n",
       "<tr>\n",
       "     <td>Omnibus:</td>    <td>116.893</td>  <td>Durbin-Watson:</td>    <td>1.501</td> \n",
       "</tr>\n",
       "<tr>\n",
       "  <td>Prob(Omnibus):</td>  <td>0.000</td>  <td>Jarque-Bera (JB):</td> <td>167.819</td>\n",
       "</tr>\n",
       "<tr>\n",
       "       <td>Skew:</td>     <td>-0.852</td>      <td>Prob(JB):</td>      <td>0.000</td> \n",
       "</tr>\n",
       "<tr>\n",
       "     <td>Kurtosis:</td>    <td>4.062</td>   <td>Condition No.:</td>     <td>10</td>   \n",
       "</tr>\n",
       "</table>"
      ],
      "text/plain": [
       "<class 'statsmodels.iolib.summary2.Summary'>\n",
       "\"\"\"\n",
       "                  Results: Ordinary least squares\n",
       "==================================================================\n",
       "Model:              OLS              Adj. R-squared:     0.747    \n",
       "Dependent Variable: out              AIC:                40.9881  \n",
       "Date:               2016-06-02 22:00 BIC:                60.6191  \n",
       "No. Observations:   1000             Log-Likelihood:     -16.494  \n",
       "Df Model:           3                F-statistic:        984.7    \n",
       "Df Residuals:       996              Prob (F-statistic): 2.27e-297\n",
       "R-squared:          0.748            Scale:              0.060757 \n",
       "-------------------------------------------------------------------\n",
       "                Coef.   Std.Err.     t     P>|t|    [0.025   0.975]\n",
       "-------------------------------------------------------------------\n",
       "Intercept       0.1553    0.0144  10.7481  0.0000   0.1269   0.1836\n",
       "ind[T.True]     0.0120    0.0156   0.7673  0.4431  -0.0187   0.0426\n",
       "x               0.1472    0.0029  51.4289  0.0000   0.1416   0.1528\n",
       "y              -0.0291    0.0051  -5.6567  0.0000  -0.0392  -0.0190\n",
       "------------------------------------------------------------------\n",
       "Omnibus:             116.893       Durbin-Watson:          1.501  \n",
       "Prob(Omnibus):       0.000         Jarque-Bera (JB):       167.819\n",
       "Skew:                -0.852        Prob(JB):               0.000  \n",
       "Kurtosis:            4.062         Condition No.:          10     \n",
       "==================================================================\n",
       "\n",
       "\"\"\""
      ]
     },
     "execution_count": 10,
     "metadata": {},
     "output_type": "execute_result"
    }
   ],
   "source": [
    "res21.summary2()"
   ]
  },
  {
   "cell_type": "markdown",
   "metadata": {},
   "source": [
    "### Model comparison:"
   ]
  },
  {
   "cell_type": "markdown",
   "metadata": {},
   "source": [
    "We want to compare 2 models of linear regression. We can compute a F score from the anova between one model and more complicated model. If the more complicated model is better the difference will be significant."
   ]
  },
  {
   "cell_type": "code",
   "execution_count": 11,
   "metadata": {
    "collapsed": true
   },
   "outputs": [],
   "source": [
    "modxi = smf.ols(\"out ~ x + ind\", data=df2)"
   ]
  },
  {
   "cell_type": "code",
   "execution_count": 12,
   "metadata": {
    "collapsed": true
   },
   "outputs": [],
   "source": [
    "resxi = modxi.fit()"
   ]
  },
  {
   "cell_type": "code",
   "execution_count": 15,
   "metadata": {
    "collapsed": false
   },
   "outputs": [
    {
     "name": "stdout",
     "output_type": "stream",
     "text": [
      "F = 32.00\n",
      "pvalue = 2.016e-08\n"
     ]
    }
   ],
   "source": [
    "f, p, d = res21.compare_f_test(resxi)\n",
    "print \"F = {:.2f}\\npvalue = {:.3e}\".format(f, p)"
   ]
  },
  {
   "cell_type": "markdown",
   "metadata": {},
   "source": [
    "In that case, the more complicated model does improve the model. Which is nice as we saw that `y` coeffience had significant impact on the linear regression while `ind` not  "
   ]
  },
  {
   "cell_type": "markdown",
   "metadata": {},
   "source": [
    "## Ridge"
   ]
  },
  {
   "cell_type": "markdown",
   "metadata": {},
   "source": [
    "Un modèle linéaire cherche les coefficients qui minimisent la somme des résidus au carré du modèle. Cette mesure en soi n’est pas suffisante pour comparer des modèles, puisqu’elle conduirait à sélectionner systématiquement le modèle avec tous les facteurs, même si certains ne sont pas significatifs. On peut s’affranchir de cette limitation comme vu précédemment (calcul de F, score Cp de Mallow, ...).\n",
    "Dans cette partie, nous verrons une autre façon de le faire. Il s’agit de la régression dite \"de Ridge\". Ici, on minimisera le critère suivant :\n",
    "\n",
    "$$ C = RSS + \\lambda \\sum_k \\beta_k^2$$\n",
    "\n",
    ", où RSS est la somme des résidus au carré et les $\\beta_k$ sont les coefficients du modèle.\n"
   ]
  },
  {
   "cell_type": "code",
   "execution_count": 16,
   "metadata": {
    "collapsed": false
   },
   "outputs": [],
   "source": [
    "Y = df2.out.values\n",
    "X = df2.drop([\"out\", \"gr\"], axis=1).values"
   ]
  },
  {
   "cell_type": "code",
   "execution_count": 17,
   "metadata": {
    "collapsed": false
   },
   "outputs": [],
   "source": [
    "n_alphas = 200 # lambda in R\n",
    "alphas = np.linspace(0, 2000, n_alphas)\n",
    "clf = linear_model.Ridge()\n",
    "\n",
    "coefs = []\n",
    "for a in alphas:\n",
    "    clf.set_params(alpha=a)\n",
    "    clf.fit(X, Y)\n",
    "    coefs.append(clf.coef_)\n",
    "coefs = np.array(coefs)\n",
    "coefs = pd.DataFrame(coefs, columns=df2.drop([\"out\", \"gr\"], axis=1).columns)"
   ]
  },
  {
   "cell_type": "code",
   "execution_count": 18,
   "metadata": {
    "collapsed": false
   },
   "outputs": [
    {
     "data": {
      "image/png": "[encoded data removed]",
      "text/plain": [
       "<matplotlib.figure.Figure at 0x10e48cbd0>"
      ]
     },
     "metadata": {},
     "output_type": "display_data"
    }
   ],
   "source": [
    "_ = plt.plot(alphas, coefs)\n",
    "for c, name in zip(coefs.iloc[-1,:], coefs.columns):\n",
    "    plt.text(45, c-0.01, name )"
   ]
  },
  {
   "cell_type": "markdown",
   "metadata": {},
   "source": [
    "## Elastic net"
   ]
  },
  {
   "cell_type": "markdown",
   "metadata": {},
   "source": [
    "Here, it's weird, I don't get the correct values in the graph, as `ind` seems to have an importance when Ridge and linear regression seems to give it no importance. My guess is that there si a bug with the fit_intercet which seems to be stuck at false. When we se it to false with ElasticnetCV and Ridge, it gives the same weird result (`ind` having some importance).\n",
    "It was working on `data1.txt` though. I let it here for the sake of the plot\n",
    "\n",
    "### Why `intercept==True`\n",
    "\n",
    "When set to True, it asks to return the final constant (intercept). One wants to set it to `False` only if the table contains a columns full of `1`s wich will serve as the final constant, because it will mimic $y = \\beta \\times 1$\n"
   ]
  },
  {
   "cell_type": "code",
   "execution_count": 19,
   "metadata": {
    "collapsed": false
   },
   "outputs": [],
   "source": [
    "alphas_enet, coefs_enet, _ = linear_model.enet_path(X, Y,\n",
    "                                                    n_alphas=20, # nlambda in R\n",
    "                                                    l1_ratio=0.2, # alpha in R\n",
    "                                                    eps=1e-4, # lambda.min.ratio in R, default value =1e-4\n",
    "                                                    )\n",
    "coefs_enet = pd.DataFrame(coefs_enet.T, columns=df2.drop([\"out\", \"gr\"], axis=1).columns)"
   ]
  },
  {
   "cell_type": "code",
   "execution_count": 20,
   "metadata": {
    "collapsed": false
   },
   "outputs": [
    {
     "data": {
      "text/plain": [
       "(-3.2, 1.5)"
      ]
     },
     "execution_count": 20,
     "metadata": {},
     "output_type": "execute_result"
    },
    {
     "data": {
      "image/png": "[encoded data removed]",
      "text/plain": [
       "<matplotlib.figure.Figure at 0x10e437a50>"
      ]
     },
     "metadata": {},
     "output_type": "display_data"
    }
   ],
   "source": [
    "_ = plt.plot(np.log10(alphas_enet), coefs_enet)\n",
    "for c, name in zip(coefs_enet.iloc[-1,:], coefs_enet.columns):\n",
    "    plt.text(-3.1, c, name )\n",
    "plt.xlabel(\"$\\lambda$\")\n",
    "plt.ylabel(\"coefs\")\n",
    "#plt.ylim(-0.5,3.5)\n",
    "plt.xlim(-3.2, 1.5)"
   ]
  },
  {
   "cell_type": "markdown",
   "metadata": {},
   "source": [
    "## Elastic net CV"
   ]
  },
  {
   "cell_type": "markdown",
   "metadata": {},
   "source": [
    "This works. It performs a K-fold cross validation with k=10 here (`cv=10`), and returns the best coefficients after cross validation after `elnet_CV.fit()`.\n",
    "\n",
    "Beware of the different naming between `glmnet` and `sklearn`:\n",
    "\n",
    "- `l1_ratio` $\\rightarrow \\alpha$ \n",
    "- `alpha` $\\rightarrow \\lambda$ \n",
    "- `eps` $\\rightarrow$ lambda.min.ratio, default value in Python: $10^{-3}$, in R: $10^{-4} $\n",
    "\n",
    "***When I'll write alpha, it will refer to the python parameters, so lambda in R.***"
   ]
  },
  {
   "cell_type": "code",
   "execution_count": 21,
   "metadata": {
    "collapsed": false
   },
   "outputs": [],
   "source": [
    "elnet_CV = linear_model.ElasticNetCV(l1_ratio=0.2, # alpha in R\n",
    "                                   n_alphas=30, # nlambda in R\n",
    "                                   eps=1e-4, # lambda.min.ratio in R, default value = 1e-4\n",
    "                                   fit_intercept=True,\n",
    "                                   cv=10)\n",
    "alphas_enet_CV, coefs_enet_CV, _ = elnet_CV.path(X, Y)"
   ]
  },
  {
   "cell_type": "code",
   "execution_count": 22,
   "metadata": {
    "collapsed": false
   },
   "outputs": [],
   "source": [
    "reselnet_CV = elnet_CV.fit(X, Y)"
   ]
  },
  {
   "cell_type": "markdown",
   "metadata": {},
   "source": [
    "As it returns the best coefficient the following graph is not really necessary. It may be useful if one wants to select another coef from another alpha whose mean square error is also small."
   ]
  },
  {
   "cell_type": "code",
   "execution_count": 23,
   "metadata": {
    "collapsed": false
   },
   "outputs": [
    {
     "data": {
      "image/png": "[encoded data removed]",
      "text/plain": [
       "<matplotlib.figure.Figure at 0x10f5d2ed0>"
      ]
     },
     "metadata": {},
     "output_type": "display_data"
    }
   ],
   "source": [
    "plt.errorbar(np.log(reselnet_CV.alphas_),\n",
    "             reselnet_CV.mse_path_.mean(axis=1),\n",
    "             yerr=reselnet_CV.mse_path_.std(axis=1),\n",
    "            ecolor=\"r\", elinewidth=0.8)\n",
    "#_ = plt.xticks(np.log(reselnet_CV.alphas_)[::5], rotation=10)\n",
    "_ = plt.ylabel(\"MSE\")\n",
    "_ = plt.xlabel(\"log(alphas)\")"
   ]
  },
  {
   "cell_type": "markdown",
   "metadata": {},
   "source": [
    "## Prediction"
   ]
  },
  {
   "cell_type": "markdown",
   "metadata": {},
   "source": [
    "### For one individual"
   ]
  },
  {
   "cell_type": "markdown",
   "metadata": {},
   "source": [
    "Say we want to (re-) predict the output for the individual 5 (or observation 5). We need to get the data for `x, y, ind` (we could remove ind and build a linear model without it). Then we need to add the intercept value estimated."
   ]
  },
  {
   "cell_type": "code",
   "execution_count": 24,
   "metadata": {
    "collapsed": false
   },
   "outputs": [],
   "source": [
    "indiv_5 = df2.drop([\"out\", \"gr\"], axis=1).iloc[4].astype(float).values"
   ]
  },
  {
   "cell_type": "code",
   "execution_count": 25,
   "metadata": {
    "collapsed": false
   },
   "outputs": [
    {
     "data": {
      "text/plain": [
       "0.54303852688793552"
      ]
     },
     "execution_count": 25,
     "metadata": {},
     "output_type": "execute_result"
    }
   ],
   "source": [
    "mod21.predict(res21.params, [res21.params.loc[\"Intercept\"]]+list(indiv_5)) "
   ]
  },
  {
   "cell_type": "markdown",
   "metadata": {},
   "source": [
    "Which round up to 1, so this is bad prediction, 0 was expected ! But how do we behave on the entire dataset ?"
   ]
  },
  {
   "cell_type": "code",
   "execution_count": 26,
   "metadata": {
    "collapsed": false
   },
   "outputs": [],
   "source": [
    "df2[\"lm_pred\"] = (res21.predict()>0.5).astype(int)"
   ]
  },
  {
   "cell_type": "code",
   "execution_count": 27,
   "metadata": {
    "collapsed": false
   },
   "outputs": [],
   "source": [
    "df2[\"elnet_pred\"] = (elnet_CV.predict(X)>0.5).astype(int)"
   ]
  },
  {
   "cell_type": "code",
   "execution_count": 28,
   "metadata": {
    "collapsed": false
   },
   "outputs": [
    {
     "data": {
      "text/html": [
       "<div>\n",
       "<table border=\"1\" class=\"dataframe\">\n",
       "  <thead>\n",
       "    <tr style=\"text-align: right;\">\n",
       "      <th></th>\n",
       "      <th>x</th>\n",
       "      <th>y</th>\n",
       "      <th>gr</th>\n",
       "      <th>out</th>\n",
       "      <th>ind</th>\n",
       "      <th>lm_pred</th>\n",
       "      <th>elnet_pred</th>\n",
       "    </tr>\n",
       "  </thead>\n",
       "  <tbody>\n",
       "    <tr>\n",
       "      <th>1</th>\n",
       "      <td>1.343301</td>\n",
       "      <td>-2.359275</td>\n",
       "      <td>g1</td>\n",
       "      <td>0</td>\n",
       "      <td>True</td>\n",
       "      <td>0</td>\n",
       "      <td>0</td>\n",
       "    </tr>\n",
       "    <tr>\n",
       "      <th>2</th>\n",
       "      <td>4.590645</td>\n",
       "      <td>-0.287918</td>\n",
       "      <td>g1</td>\n",
       "      <td>0</td>\n",
       "      <td>True</td>\n",
       "      <td>1</td>\n",
       "      <td>1</td>\n",
       "    </tr>\n",
       "    <tr>\n",
       "      <th>3</th>\n",
       "      <td>0.763371</td>\n",
       "      <td>-1.182935</td>\n",
       "      <td>g1</td>\n",
       "      <td>0</td>\n",
       "      <td>True</td>\n",
       "      <td>0</td>\n",
       "      <td>0</td>\n",
       "    </tr>\n",
       "    <tr>\n",
       "      <th>4</th>\n",
       "      <td>1.326934</td>\n",
       "      <td>0.599838</td>\n",
       "      <td>g1</td>\n",
       "      <td>0</td>\n",
       "      <td>False</td>\n",
       "      <td>0</td>\n",
       "      <td>0</td>\n",
       "    </tr>\n",
       "    <tr>\n",
       "      <th>5</th>\n",
       "      <td>3.266690</td>\n",
       "      <td>3.259022</td>\n",
       "      <td>g1</td>\n",
       "      <td>0</td>\n",
       "      <td>False</td>\n",
       "      <td>1</td>\n",
       "      <td>1</td>\n",
       "    </tr>\n",
       "  </tbody>\n",
       "</table>\n",
       "</div>"
      ],
      "text/plain": [
       "          x         y  gr  out    ind  lm_pred  elnet_pred\n",
       "1  1.343301 -2.359275  g1    0   True        0           0\n",
       "2  4.590645 -0.287918  g1    0   True        1           1\n",
       "3  0.763371 -1.182935  g1    0   True        0           0\n",
       "4  1.326934  0.599838  g1    0  False        0           0\n",
       "5  3.266690  3.259022  g1    0  False        1           1"
      ]
     },
     "execution_count": 28,
     "metadata": {},
     "output_type": "execute_result"
    }
   ],
   "source": [
    "df2.head()"
   ]
  },
  {
   "cell_type": "markdown",
   "metadata": {},
   "source": [
    "Confusion matrix (or contingency matrix) for the linear model prediction."
   ]
  },
  {
   "cell_type": "code",
   "execution_count": 29,
   "metadata": {
    "collapsed": false
   },
   "outputs": [
    {
     "data": {
      "text/html": [
       "<div>\n",
       "<table border=\"1\" class=\"dataframe\">\n",
       "  <thead>\n",
       "    <tr style=\"text-align: right;\">\n",
       "      <th>lm_pred</th>\n",
       "      <th>0</th>\n",
       "      <th>1</th>\n",
       "    </tr>\n",
       "    <tr>\n",
       "      <th>out</th>\n",
       "      <th></th>\n",
       "      <th></th>\n",
       "    </tr>\n",
       "  </thead>\n",
       "  <tbody>\n",
       "    <tr>\n",
       "      <th>0</th>\n",
       "      <td>356</td>\n",
       "      <td>44</td>\n",
       "    </tr>\n",
       "    <tr>\n",
       "      <th>1</th>\n",
       "      <td>1</td>\n",
       "      <td>599</td>\n",
       "    </tr>\n",
       "  </tbody>\n",
       "</table>\n",
       "</div>"
      ],
      "text/plain": [
       "lm_pred    0    1\n",
       "out              \n",
       "0        356   44\n",
       "1          1  599"
      ]
     },
     "execution_count": 29,
     "metadata": {},
     "output_type": "execute_result"
    }
   ],
   "source": [
    "pd.crosstab(df2.out, df2.lm_pred)"
   ]
  },
  {
   "cell_type": "markdown",
   "metadata": {},
   "source": [
    "Confusion matrix (or contingency matrix) for the elastic net CV model prediction."
   ]
  },
  {
   "cell_type": "code",
   "execution_count": 30,
   "metadata": {
    "collapsed": false
   },
   "outputs": [
    {
     "data": {
      "text/html": [
       "<div>\n",
       "<table border=\"1\" class=\"dataframe\">\n",
       "  <thead>\n",
       "    <tr style=\"text-align: right;\">\n",
       "      <th>elnet_pred</th>\n",
       "      <th>0</th>\n",
       "      <th>1</th>\n",
       "    </tr>\n",
       "    <tr>\n",
       "      <th>out</th>\n",
       "      <th></th>\n",
       "      <th></th>\n",
       "    </tr>\n",
       "  </thead>\n",
       "  <tbody>\n",
       "    <tr>\n",
       "      <th>0</th>\n",
       "      <td>356</td>\n",
       "      <td>44</td>\n",
       "    </tr>\n",
       "    <tr>\n",
       "      <th>1</th>\n",
       "      <td>1</td>\n",
       "      <td>599</td>\n",
       "    </tr>\n",
       "  </tbody>\n",
       "</table>\n",
       "</div>"
      ],
      "text/plain": [
       "elnet_pred    0    1\n",
       "out                 \n",
       "0           356   44\n",
       "1             1  599"
      ]
     },
     "execution_count": 30,
     "metadata": {},
     "output_type": "execute_result"
    }
   ],
   "source": [
    "pd.crosstab(df2.out, df2.elnet_pred)"
   ]
  },
  {
   "cell_type": "markdown",
   "metadata": {},
   "source": [
    "We can calculate the boundary line between the 2 groups by solving:\n",
    "\n",
    "$$ C + \\beta_1 X + \\beta_2 y = 0.5 $$ \n",
    "\n",
    "Which correspond to:\n",
    "$$y = -\\frac{\\beta_1}{\\beta_2} X + \\frac{0.5-C}{\\beta_2} $$\n"
   ]
  },
  {
   "cell_type": "code",
   "execution_count": 31,
   "metadata": {
    "collapsed": false
   },
   "outputs": [],
   "source": [
    "intercept_lm = (0.5 - res21.params.loc[\"Intercept\"]) / res21.params.loc[\"y\"]\n",
    "slope_lm = - res21.params.loc[\"x\"] / res21.params.loc[\"y\"]\n",
    "\n",
    "xf = np.linspace(-2, 6, 100)\n",
    "yf = slope_lm * xf + intercept_lm"
   ]
  },
  {
   "cell_type": "code",
   "execution_count": 32,
   "metadata": {
    "collapsed": false
   },
   "outputs": [],
   "source": [
    "intercept_elnet = (0.5 - elnet_CV.intercept_) / elnet_CV.coef_[1]\n",
    "slope_elnet = - elnet_CV.coef_[0] / elnet_CV.coef_[1]\n",
    "\n",
    "xf_e = np.linspace(-2, 6, 100)\n",
    "yf_e = slope_elnet * xf + intercept_elnet"
   ]
  },
  {
   "cell_type": "code",
   "execution_count": 33,
   "metadata": {
    "collapsed": false,
    "hide_input": false
   },
   "outputs": [
    {
     "data": {
      "image/png": "[encoded data removed]",
      "text/plain": [
       "<matplotlib.figure.Figure at 0x10e431c90>"
      ]
     },
     "metadata": {},
     "output_type": "display_data"
    }
   ],
   "source": [
    "fig, ax = plt.subplots(1,3, figsize=(9,3), sharey=True, sharex=True)\n",
    "sns.regplot(\"x\", \"y\", data=df2[df2.out==0], fit_reg=0, ax=ax[0], color=\"lightblue\")\n",
    "sns.regplot(\"x\", \"y\", data=df2[df2.out==1], fit_reg=0, ax=ax[0], color=\"orange\")\n",
    "ax[0].set_ylim(-7,10)\n",
    "ax[0].set_title(\"True dataset\")\n",
    "\n",
    "sns.regplot(\"x\", \"y\", data=df2[df2.lm_pred==0], fit_reg=0, ax=ax[1], color=\"lightblue\")\n",
    "sns.regplot(\"x\", \"y\", data=df2[df2.lm_pred==1], fit_reg=0, ax=ax[1], color=\"orange\")\n",
    "ax[1].plot(xf, yf, \"k--\")\n",
    "ax[1].set_ylim(-7,10)\n",
    "ax[1].set_title(\"Linear Model prediction\")\n",
    "\n",
    "sns.regplot(\"x\", \"y\", data=df2[df2.elnet_pred==0], fit_reg=0, ax=ax[2], color=\"lightblue\")\n",
    "sns.regplot(\"x\", \"y\", data=df2[df2.elnet_pred==1], fit_reg=0, ax=ax[2], color=\"orange\")\n",
    "ax[2].plot(xf, yf, \"k--\")\n",
    "ax[2].set_ylim(-7,10)\n",
    "_ = ax[2].set_title(\"Elastic Net prediction\")\n",
    "\n",
    "sns.despine()"
   ]
  },
  {
   "cell_type": "markdown",
   "metadata": {
    "collapsed": true
   },
   "source": [
    "# Discriminant Analysis"
   ]
  },
  {
   "cell_type": "code",
   "execution_count": 34,
   "metadata": {
    "collapsed": true
   },
   "outputs": [],
   "source": [
    "from sklearn.discriminant_analysis import LinearDiscriminantAnalysis as LDA\n",
    "from sklearn.discriminant_analysis import QuadraticDiscriminantAnalysis as QDA"
   ]
  },
  {
   "cell_type": "code",
   "execution_count": 35,
   "metadata": {
    "collapsed": true
   },
   "outputs": [],
   "source": [
    "def confusion_matrix(y_test, y_pred):\n",
    "    df = pd.DataFrame() \n",
    "    df[\"y_test\"] = y_test\n",
    "    df[\"y_pred\"] = y_pred\n",
    "    cm =pd.crosstab(df.y_test, df.y_pred)\n",
    "    cm.columns.name = 'Predicted label'\n",
    "    cm.index.name = 'True label'\n",
    "    error_rate = (y_pred != y_test).mean()\n",
    "    #print('error rate: %.2f' % error_rate*100)\n",
    "    return error_rate, cm"
   ]
  },
  {
   "cell_type": "code",
   "execution_count": 36,
   "metadata": {
    "collapsed": true
   },
   "outputs": [],
   "source": [
    "from sklearn.cross_validation import train_test_split"
   ]
  },
  {
   "cell_type": "code",
   "execution_count": 37,
   "metadata": {
    "collapsed": true
   },
   "outputs": [],
   "source": [
    "def disc_analysis(est, xx, yy, df_train, df_test, cv=20, print_cm=False):\n",
    "    \"\"\" \n",
    "    est: like LDA(), QDA()\n",
    "    X: columns name in df\n",
    "    Y: column name in df\n",
    "    df_train: the training dataset \n",
    "    df_test: the testing dataset\n",
    "    cv: percentage of dataset not used in the model\n",
    "    \"\"\"\n",
    "    \n",
    "    X_train = df_train[xx]\n",
    "    y_train = df_train[yy]\n",
    "    X_test = df_test[xx]\n",
    "    y_test = df_test[yy]\n",
    "\n",
    "    est.fit(X_train, y_train)\n",
    "    error_rate, cm = confusion_matrix(y_test, est.predict(X_test))\n",
    "    if print_cm:\n",
    "        print cm\n",
    "    return error_rate"
   ]
  },
  {
   "cell_type": "code",
   "execution_count": 38,
   "metadata": {
    "collapsed": true
   },
   "outputs": [],
   "source": [
    "df2[\"x2\"] = df2.x**2\n",
    "df2[\"y2\"] = df2.y**2\n",
    "df2[\"xy\"] = df2.x*df2.y"
   ]
  },
  {
   "cell_type": "markdown",
   "metadata": {},
   "source": [
    "To compare the models we need to compute the error rate on the same training and testing dataset."
   ]
  },
  {
   "cell_type": "code",
   "execution_count": 39,
   "metadata": {
    "collapsed": false
   },
   "outputs": [],
   "source": [
    "df2_train, df2_test = train_test_split(df2, test_size=0.20)"
   ]
  },
  {
   "cell_type": "markdown",
   "metadata": {},
   "source": [
    "We make 1000 iterations which will be sufficient to pick the best model by just taking the one with the smallest error rate on average. If it takes too long one needs to verify that the the variance is not too big."
   ]
  },
  {
   "cell_type": "code",
   "execution_count": 44,
   "metadata": {
    "collapsed": false
   },
   "outputs": [],
   "source": [
    "err_lda = []\n",
    "err_qda = []\n",
    "err_lda_2 = []\n",
    "err_qda_2 = []\n",
    "err_lda_all = []\n",
    "err_qda_all = []\n",
    "\n",
    "for i in range(100):\n",
    "    err_lda.append(disc_analysis(LDA(), [\"x\", \"y\"], \"out\", df2_train, df2_test))\n",
    "    err_qda.append(disc_analysis(QDA(), [\"x\", \"y\"], \"out\", df2_train, df2_test))\n",
    "    # Taking into account only the square values has interest only if it means something.\n",
    "    err_lda_2.append(disc_analysis(LDA(), [\"x2\", \"y2\"], \"out\", df2_train, df2_test)) \n",
    "    err_qda_2.append(disc_analysis(QDA(), [\"x2\", \"y2\"], \"out\", df2_train, df2_test))\n",
    "    # This is polynomial extension of the model as one can do with the linear model\n",
    "    err_lda_all.append(disc_analysis(LDA(), [\"x\", \"y\", \"x2\", \"y2\", \"xy\"], \"out\", df2_train, df2_test))\n",
    "    err_qda_all.append(disc_analysis(QDA(), [\"x\", \"y\", \"x2\", \"y2\", \"xy\"], \"out\", df2_train, df2_test))\n",
    " "
   ]
  },
  {
   "cell_type": "code",
   "execution_count": 45,
   "metadata": {
    "collapsed": false,
    "scrolled": true
   },
   "outputs": [
    {
     "name": "stdout",
     "output_type": "stream",
     "text": [
      "With lda model, error rate is 5.0 % and variance is 1.9e-34\n",
      "With qda model, error rate is 3.0 % and variance is 0.0e+00\n",
      "With lda_2 model, error rate is 4.0 % and variance is 4.8e-35\n",
      "With qda_2 model, error rate is 6.0 % and variance is 0.0e+00\n",
      "With lda_all model, error rate is 3.5 % and variance is 1.9e-34\n",
      "With qda_all model, error rate is 2.5 % and variance is 4.8e-35\n"
     ]
    }
   ],
   "source": [
    "for i,name in zip([err_lda, err_qda, err_lda_2, err_qda_2, err_lda_all, err_qda_all],\n",
    "                   [\"lda\", \"qda\", \"lda_2\", \"qda_2\", \"lda_all\", \"qda_all\"]):\n",
    "    print \"With {} model, error rate is {} % and variance is {:.1e}\".format(name, np.mean(i)*100, np.var(i))"
   ]
  },
  {
   "cell_type": "markdown",
   "metadata": {},
   "source": [
    "# PCA"
   ]
  },
  {
   "cell_type": "code",
   "execution_count": 46,
   "metadata": {
    "collapsed": true
   },
   "outputs": [],
   "source": [
    "from sklearn.datasets import load_iris\n",
    "from sklearn.decomposition import PCA"
   ]
  },
  {
   "cell_type": "code",
   "execution_count": 47,
   "metadata": {
    "collapsed": false
   },
   "outputs": [],
   "source": [
    "iris = load_iris()"
   ]
  },
  {
   "cell_type": "code",
   "execution_count": 48,
   "metadata": {
    "collapsed": false
   },
   "outputs": [
    {
     "data": {
      "text/plain": [
       "['target_names', 'data', 'target', 'DESCR', 'feature_names']"
      ]
     },
     "execution_count": 48,
     "metadata": {},
     "output_type": "execute_result"
    }
   ],
   "source": [
    "iris.keys()"
   ]
  },
  {
   "cell_type": "code",
   "execution_count": 49,
   "metadata": {
    "collapsed": true
   },
   "outputs": [],
   "source": [
    "pca = PCA(n_components=2)"
   ]
  },
  {
   "cell_type": "code",
   "execution_count": 50,
   "metadata": {
    "collapsed": true
   },
   "outputs": [],
   "source": [
    "X = iris.data\n",
    "y = iris.target"
   ]
  },
  {
   "cell_type": "markdown",
   "metadata": {},
   "source": [
    "Fit with dimensionality reduction :"
   ]
  },
  {
   "cell_type": "code",
   "execution_count": 51,
   "metadata": {
    "collapsed": false
   },
   "outputs": [],
   "source": [
    "X_pca = pca.fit_transform(X)"
   ]
  },
  {
   "cell_type": "code",
   "execution_count": 52,
   "metadata": {
    "collapsed": false
   },
   "outputs": [
    {
     "data": {
      "text/html": [
       "<div>\n",
       "<table border=\"1\" class=\"dataframe\">\n",
       "  <thead>\n",
       "    <tr style=\"text-align: right;\">\n",
       "      <th></th>\n",
       "      <th>pc1</th>\n",
       "      <th>pc2</th>\n",
       "      <th>y</th>\n",
       "    </tr>\n",
       "  </thead>\n",
       "  <tbody>\n",
       "    <tr>\n",
       "      <th>0</th>\n",
       "      <td>-2.684207</td>\n",
       "      <td>-0.326607</td>\n",
       "      <td>setosa</td>\n",
       "    </tr>\n",
       "    <tr>\n",
       "      <th>1</th>\n",
       "      <td>-2.715391</td>\n",
       "      <td>0.169557</td>\n",
       "      <td>setosa</td>\n",
       "    </tr>\n",
       "    <tr>\n",
       "      <th>2</th>\n",
       "      <td>-2.889820</td>\n",
       "      <td>0.137346</td>\n",
       "      <td>setosa</td>\n",
       "    </tr>\n",
       "    <tr>\n",
       "      <th>3</th>\n",
       "      <td>-2.746437</td>\n",
       "      <td>0.311124</td>\n",
       "      <td>setosa</td>\n",
       "    </tr>\n",
       "    <tr>\n",
       "      <th>4</th>\n",
       "      <td>-2.728593</td>\n",
       "      <td>-0.333925</td>\n",
       "      <td>setosa</td>\n",
       "    </tr>\n",
       "  </tbody>\n",
       "</table>\n",
       "</div>"
      ],
      "text/plain": [
       "        pc1       pc2       y\n",
       "0 -2.684207 -0.326607  setosa\n",
       "1 -2.715391  0.169557  setosa\n",
       "2 -2.889820  0.137346  setosa\n",
       "3 -2.746437  0.311124  setosa\n",
       "4 -2.728593 -0.333925  setosa"
      ]
     },
     "execution_count": 52,
     "metadata": {},
     "output_type": "execute_result"
    }
   ],
   "source": [
    "df_pca = pd.DataFrame(X_pca)\n",
    "df_pca['name'] = [iris.target_names[i] for i in iris.target] \n",
    "df_pca.columns = [['pc1', 'pc2', 'y']]\n",
    "df_pca.head()"
   ]
  },
  {
   "cell_type": "markdown",
   "metadata": {},
   "source": [
    "The following graph is a biplot, where:\n",
    "> Samples are displayed as points while variables are displayed either as vectors, linear axes or nonlinear trajectories. In the case of categorical variables, category level points may be used to represent the levels of a categorical variable. A generalised biplot displays information on both continuous and categorical variables.\n",
    "[Wikipedia](https://en.wikipedia.org/wiki/Biplot)\n",
    "\n",
    "Here samples are the different iris, and the variable, their cracteristics.\n",
    "\n",
    "This is useful, as one can evaluate (here) the biological value of the plante, by projecting one sample on the corresponding line going through the vector."
   ]
  },
  {
   "cell_type": "code",
   "execution_count": 53,
   "metadata": {
    "collapsed": false,
    "hide_input": true
   },
   "outputs": [
    {
     "data": {
      "image/png": "[encoded data removed]",
      "text/plain": [
       "<matplotlib.figure.Figure at 0x10fa3dfd0>"
      ]
     },
     "metadata": {},
     "output_type": "display_data"
    }
   ],
   "source": [
    "sns.lmplot('pc1', 'pc2', data=df_pca,\n",
    "           hue = 'y',\n",
    "           fit_reg = False,\n",
    "           size = 5,\n",
    "           scatter_kws={\"s\": 30})\n",
    "\n",
    "# set the maximum variance of the first two PCs\n",
    "# this will be the end point of the arrow of each **original features**\n",
    "xvector = pca.components_[0]\n",
    "yvector = pca.components_[1]\n",
    " \n",
    "# value of the first two PCs, set the x, y axis boundary\n",
    "xs = pca.transform(X)[:,0]\n",
    "ys = pca.transform(X)[:,1]\n",
    "\n",
    "x = np.linspace(-4,5,10)\n",
    "\n",
    "## visualize projections\n",
    "for i in range(len(xvector)):\n",
    "    # arrows project features (ie columns from csv) as vectors onto PC axes\n",
    "    # we can adjust length and the size of the arrow\n",
    "    plt.arrow(0, 0, xvector[i]*max(xs), yvector[i]*max(ys),\n",
    "              color='r', width=0.01, head_width=0.05)\n",
    "    plt.text(xvector[i]*max(xs)*1.1, yvector[i]*max(ys)*1.1,\n",
    "             list(iris.feature_names)[i], color='r')\n",
    "    plt.plot(x, x*((yvector[i]*max(ys))/(xvector[i]*max(xs))), \"k--\", lw=0.4)\n",
    "\n",
    "# Annotate dots\n",
    "# not very informative here !\n",
    "for i in range(len(xs)):\n",
    "    plt.text(xs[i]*1.08, ys[i]*1.08, i, color='0.7') # index number of each observations\n",
    "\n",
    "plt.ylim(-2,1.5)\n",
    "plt.xlim(-4,5)\n",
    "_ = plt.title(\"PCA projection\")\n",
    "# If one wants to center the spine (axes) at zero.\n",
    "# \n",
    "# ax = plt.gca()\n",
    "# ax.spines['left'].set_position('zero')\n",
    "# ax.spines['right'].set_color('none')\n",
    "# ax.spines['bottom'].set_position('zero')\n",
    "# ax.spines['top'].set_color('none')\n",
    "# ax.spines['left'].set_smart_bounds(True)\n",
    "# ax.spines['bottom'].set_smart_bounds(True)\n"
   ]
  },
  {
   "cell_type": "markdown",
   "metadata": {},
   "source": [
    "# Hierarchical clustering\n",
    "\n",
    "Need to write some explanation..."
   ]
  },
  {
   "cell_type": "code",
   "execution_count": 54,
   "metadata": {
    "collapsed": true,
    "run_control": {
     "marked": true
    }
   },
   "outputs": [],
   "source": [
    "import scipy.cluster.hierarchy as sch\n",
    "from sklearn.metrics.pairwise import euclidean_distances"
   ]
  },
  {
   "cell_type": "markdown",
   "metadata": {},
   "source": [
    "## Single method linkage"
   ]
  },
  {
   "cell_type": "code",
   "execution_count": 55,
   "metadata": {
    "collapsed": false
   },
   "outputs": [
    {
     "name": "stderr",
     "output_type": "stream",
     "text": [
      "/Users/jcury/Library/Enthought/Canopy_64bit/User/lib/python2.7/site-packages/scipy/spatial/distance.py:1176: VisibleDeprecationWarning: using a non-integer number instead of an integer will result in an error in the future\n",
      "  dm = np.zeros((m * (m - 1) / 2,), dtype=np.double)\n"
     ]
    }
   ],
   "source": [
    "dist = euclidean_distances(X)\n",
    "L = sch.linkage(dist)"
   ]
  },
  {
   "cell_type": "code",
   "execution_count": 56,
   "metadata": {
    "collapsed": false,
    "scrolled": true
   },
   "outputs": [
    {
     "data": {
      "image/png": "[encoded data removed]",
      "text/plain": [
       "<matplotlib.figure.Figure at 0x10fa060d0>"
      ]
     },
     "metadata": {},
     "output_type": "display_data"
    }
   ],
   "source": [
    "_ = sch.dendrogram(L)"
   ]
  },
  {
   "cell_type": "markdown",
   "metadata": {},
   "source": [
    "## Ward method \n",
    "\n",
    "One needs to pass the X matrix directly without calculating the euclidean distance. (not working otherwise !)\n",
    "\n",
    "from docstring: \n",
    "\n",
    "> Alternatively, a collection of\n",
    "> `m` observation vectors in `n` dimensions may be passed as an\n",
    "> `m` by `n` array."
   ]
  },
  {
   "cell_type": "code",
   "execution_count": 57,
   "metadata": {
    "collapsed": false
   },
   "outputs": [],
   "source": [
    "L = sch.linkage(X, method='ward')"
   ]
  },
  {
   "cell_type": "code",
   "execution_count": 58,
   "metadata": {
    "collapsed": false
   },
   "outputs": [
    {
     "data": {
      "image/png": "[encoded data removed]",
      "text/plain": [
       "<matplotlib.figure.Figure at 0x10fd3ff90>"
      ]
     },
     "metadata": {},
     "output_type": "display_data"
    }
   ],
   "source": [
    "_ = sch.dendrogram(L)"
   ]
  }
 ],
 "metadata": {
  "hide_input": false,
  "kernelspec": {
   "display_name": "Python 2",
   "language": "python",
   "name": "python2"
  },
  "language_info": {
   "codemirror_mode": {
    "name": "ipython",
    "version": 2
   },
   "file_extension": ".py",
   "mimetype": "text/x-python",
   "name": "python",
   "nbconvert_exporter": "python",
   "pygments_lexer": "ipython2",
   "version": "2.7.6"
  },
  "toc": {
   "toc_cell": true,
   "toc_number_sections": true,
   "toc_section_display": "none",
   "toc_threshold": 6,
   "toc_window_display": false
  },
  "toc_position": {
   "height": "253px",
   "left": "1070.17px",
   "right": "2.83333px",
   "top": "120px",
   "width": "207px"
  }
 },
 "nbformat": 4,
 "nbformat_minor": 0
}
